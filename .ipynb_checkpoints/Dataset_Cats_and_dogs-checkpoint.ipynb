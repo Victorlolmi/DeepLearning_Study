{
 "cells": [
  {
   "cell_type": "markdown",
   "metadata": {},
   "source": [
    "Carregar imagens do diretorio"
   ]
  },
  {
   "cell_type": "code",
   "execution_count": 276,
   "metadata": {},
   "outputs": [
    {
     "data": {
      "text/plain": [
       "'d:\\\\Desktop\\\\Documents\\\\GitHub\\\\DeepLearning_Study'"
      ]
     },
     "execution_count": 276,
     "metadata": {},
     "output_type": "execute_result"
    }
   ],
   "source": [
    "import os \n",
    "#pega o diretorio onde esta sendo executado e organiza o path \n",
    "current_dir = os.path.abspath(os.getcwd())\n",
    "current_dir"
   ]
  },
  {
   "cell_type": "code",
   "execution_count": 280,
   "metadata": {},
   "outputs": [
    {
     "data": {
      "text/plain": [
       "[]"
      ]
     },
     "execution_count": 280,
     "metadata": {},
     "output_type": "execute_result"
    }
   ],
   "source": [
    "import glob \n",
    "#Acessa a pasta Treino\n",
    "original_path = current_dir +\"\\\\cats_and_dogs_dataset\\\\train\\\\dogs\"\n",
    "#Cria uma lista apenas arquivos iniciados com dog.\n",
    "dog_img_files = glob.glob(original_path + 'dog.*')\n"
   ]
  },
  {
   "cell_type": "markdown",
   "metadata": {},
   "source": [
    "Função Padrão para exibir imagens "
   ]
  },
  {
   "cell_type": "code",
   "execution_count": 278,
   "metadata": {},
   "outputs": [],
   "source": [
    "import matplotlib.pyplot as plt\n",
    "import numpy as np\n",
    "\n",
    "def showImages(imgsArray, titlesArray, size, grid=(1,1)):\n",
    "\n",
    "    y, x = grid\n",
    "    fig, axes = plt.subplots(y, x, figsize = size)\n",
    "    axes = axes.ravel() if isinstance(axes, np.ndarray) else np.array([axes])\n",
    "\n",
    "    if len(imgsArray) != len(titlesArray):\n",
    "        print(\"Error: the numbers of images and titles has to be the same!\")\n",
    "        return\n",
    "    \n",
    "    for idx, (img,title) in enumerate(zip(imgsArray, titlesArray)):\n",
    "        if len(img.shape) == 2: # the image is gray tones\n",
    "            axes[idx].imshow(img, cmap='gray')\n",
    "        else : # the image is RGB\n",
    "            axes[idx].imshow(img)\n",
    "        axes[idx].set_title(title, fontdict={'fontsize':18, 'fontweight': 'medium'}, pad=10)\n",
    "        if len(title) == 0:\n",
    "            axes[idx].axis('off')\n",
    "\n",
    "    plt.tight_layout() \n",
    "    plt.show()"
   ]
  },
  {
   "cell_type": "markdown",
   "metadata": {},
   "source": [
    "Exibir 9 imagens de cachorros aleatórias"
   ]
  },
  {
   "cell_type": "code",
   "execution_count": 279,
   "metadata": {},
   "outputs": [
    {
     "ename": "ValueError",
     "evalue": "Sample larger than population or is negative",
     "output_type": "error",
     "traceback": [
      "\u001b[1;31m---------------------------------------------------------------------------\u001b[0m",
      "\u001b[1;31mValueError\u001b[0m                                Traceback (most recent call last)",
      "Cell \u001b[1;32mIn[279], line 4\u001b[0m\n\u001b[0;32m      1\u001b[0m \u001b[38;5;28;01mimport\u001b[39;00m \u001b[38;5;21;01mrandom\u001b[39;00m\n\u001b[0;32m      2\u001b[0m \u001b[38;5;28;01mimport\u001b[39;00m \u001b[38;5;21;01mcv2\u001b[39;00m\n\u001b[1;32m----> 4\u001b[0m random_dog_imgs \u001b[38;5;241m=\u001b[39m [cv2\u001b[38;5;241m.\u001b[39mimread(img_file) \u001b[38;5;28;01mfor\u001b[39;00m img_file \u001b[38;5;129;01min\u001b[39;00m \u001b[43mrandom\u001b[49m\u001b[38;5;241;43m.\u001b[39;49m\u001b[43msample\u001b[49m\u001b[43m(\u001b[49m\u001b[43mdog_img_files\u001b[49m\u001b[43m,\u001b[49m\u001b[43m \u001b[49m\u001b[38;5;241;43m9\u001b[39;49m\u001b[43m)\u001b[49m]\n\u001b[0;32m      5\u001b[0m random_dog_imgs \u001b[38;5;241m=\u001b[39m [cv2\u001b[38;5;241m.\u001b[39mcvtColor(img, cv2\u001b[38;5;241m.\u001b[39mCOLOR_BGR2RGB) \u001b[38;5;28;01mfor\u001b[39;00m img \u001b[38;5;129;01min\u001b[39;00m random_dog_imgs]\n\u001b[0;32m      6\u001b[0m titiles \u001b[38;5;241m=\u001b[39m [\u001b[38;5;124m'\u001b[39m\u001b[38;5;124mDog\u001b[39m\u001b[38;5;124m'\u001b[39m \u001b[38;5;241m+\u001b[39m \u001b[38;5;28mstr\u001b[39m(i) \u001b[38;5;28;01mfor\u001b[39;00m i \u001b[38;5;129;01min\u001b[39;00m \u001b[38;5;28mrange\u001b[39m(\u001b[38;5;241m9\u001b[39m)]\n",
      "File \u001b[1;32mc:\\Users\\W10\\AppData\\Local\\Programs\\Python\\Python311\\Lib\\random.py:456\u001b[0m, in \u001b[0;36mRandom.sample\u001b[1;34m(self, population, k, counts)\u001b[0m\n\u001b[0;32m    454\u001b[0m randbelow \u001b[38;5;241m=\u001b[39m \u001b[38;5;28mself\u001b[39m\u001b[38;5;241m.\u001b[39m_randbelow\n\u001b[0;32m    455\u001b[0m \u001b[38;5;28;01mif\u001b[39;00m \u001b[38;5;129;01mnot\u001b[39;00m \u001b[38;5;241m0\u001b[39m \u001b[38;5;241m<\u001b[39m\u001b[38;5;241m=\u001b[39m k \u001b[38;5;241m<\u001b[39m\u001b[38;5;241m=\u001b[39m n:\n\u001b[1;32m--> 456\u001b[0m     \u001b[38;5;28;01mraise\u001b[39;00m \u001b[38;5;167;01mValueError\u001b[39;00m(\u001b[38;5;124m\"\u001b[39m\u001b[38;5;124mSample larger than population or is negative\u001b[39m\u001b[38;5;124m\"\u001b[39m)\n\u001b[0;32m    457\u001b[0m result \u001b[38;5;241m=\u001b[39m [\u001b[38;5;28;01mNone\u001b[39;00m] \u001b[38;5;241m*\u001b[39m k\n\u001b[0;32m    458\u001b[0m setsize \u001b[38;5;241m=\u001b[39m \u001b[38;5;241m21\u001b[39m        \u001b[38;5;66;03m# size of a small set minus size of an empty list\u001b[39;00m\n",
      "\u001b[1;31mValueError\u001b[0m: Sample larger than population or is negative"
     ]
    }
   ],
   "source": [
    "import random\n",
    "import cv2\n",
    "\n",
    "random_dog_imgs = [cv2.imread(img_file) for img_file in random.sample(dog_img_files, 9)]\n",
    "random_dog_imgs = [cv2.cvtColor(img, cv2.COLOR_BGR2RGB) for img in random_dog_imgs]\n",
    "titiles = ['Dog' + str(i) for i in range(9)]\n",
    "\n",
    "showImages(random_dog_imgs, titiles, (15,15),(3,3))\n"
   ]
  },
  {
   "cell_type": "markdown",
   "metadata": {},
   "source": [
    "Converter base de dados para treino, validação e teste "
   ]
  },
  {
   "cell_type": "code",
   "execution_count": null,
   "metadata": {},
   "outputs": [],
   "source": [
    "#Criar pastas para atenter a estrutura do Keras/Tensorflow\n",
    "\n",
    "folder = \"\\\\cats_and_dogs_dataset\"\n",
    "train_folder = current_dir + folder + \"\\\\train\"\n",
    "val_folder = current_dir + folder + \"\\\\validation\"\n",
    "test_folder = current_dir + folder + \"\\\\test\""
   ]
  },
  {
   "cell_type": "code",
   "execution_count": null,
   "metadata": {},
   "outputs": [],
   "source": [
    "import os\n",
    "exist_path = current_dir +\"\\\\cats_and_dogs_dataset\"\n",
    "#verifica se ja existe a pasta \n",
    "if not os.path.exists(exist_path):\n",
    "    os.mkdir(current_dir + folder)#cria nova pasta do dataset\n",
    "    os.mkdir(train_folder)#cria nova pasta de treino\n",
    "    os.mkdir(val_folder)#cria nova pasta de validação\n",
    "    os.mkdir(test_folder)#ceia nova pasta de teste\n",
    "\n",
    "#cria pastas de Treino, validacao e teste para cada classe\n",
    "new_folder_train_dogs = train_folder + \"\\\\dogs\"\n",
    "new_folder_train_cats = train_folder + \"\\\\cats\"\n",
    "\n",
    "new_folder_val_dogs = val_folder + \"\\\\dogs\"\n",
    "new_folder_val_cats = val_folder + \"\\\\cats\"\n",
    "\n",
    "new_folder_test_dogs = test_folder + \"\\\\dogs\"\n",
    "new_folder_test_cats = test_folder + \"\\\\cats\"\n",
    "\n",
    "#verifica a existencia, caso nao exista cria\n",
    "if not os.path.exists(exist_path+\"\\\\train\"):\n",
    "    os.mkdir(new_folder_train_dogs)\n",
    "    os.mkdir(new_folder_train_cats)\n",
    "if not os.path.exists(exist_path+\"\\\\validation\"):\n",
    "    os.mkdir(new_folder_val_dogs)\n",
    "    os.mkdir(new_folder_val_cats)\n",
    "if not os.path.exists(exist_path+\"\\\\test\"):\n",
    "    os.mkdir(new_folder_test_dogs)\n",
    "    os.mkdir(new_folder_test_cats)\n"
   ]
  },
  {
   "cell_type": "markdown",
   "metadata": {},
   "source": [
    "Alocação das imgs à devidas pastas"
   ]
  },
  {
   "cell_type": "code",
   "execution_count": null,
   "metadata": {},
   "outputs": [],
   "source": [
    "\n",
    "import shutil\n",
    "\n",
    "percent_val = 0.10 #10% das imagens seram usadas para validação\n",
    "percent_test = 0.20 #20% das imagens seram usadas para teste\n",
    "# consequentemente 70% seram usadas para treinamento\n",
    "\n",
    "def moveImagesToCorectFolder():\n",
    "    #Lista dos arquivos onde encontram-se \n",
    "    dog_train_file = glob.glob(original_path  + 'dog.*')\n",
    "    cat_train_files = glob.glob(original_path + 'cat*')\n",
    "\n",
    "    #Para cada imagem de cachorro, mover para a pasta correta\n",
    "    for f in dog_train_file:\n",
    "        rand_val = random.random()\n",
    "        filename = f.split(\"\\\\\")[-1]#Pega o ultimo nome antes do \\\\\n",
    "        if rand_val <= percent_val: # pega ate 10% das imagens de forma aleatoria\n",
    "            shutil.move(f, new_folder_val_dogs + \"\\\\\" + filename) #move da pasta origem para val de cachorro\n",
    "        elif rand_val > percent_val and rand_val <= percent_val + percent_test:#Pega ate 30% das imagens \n",
    "            shutil.move(f, new_folder_test_dogs + \"\\\\\" + filename) #move da pasta origem para teste de cachorro\n",
    "        else: #Pega os 70% restante\n",
    "            shutil.move(f, new_folder_train_dogs + \"\\\\\" + filename) #move da pasta origem para treino de cachorro\n",
    "\n",
    "    #Para cada imagem de gato, mover para a pasta correta\n",
    "    for f in cat_train_files:\n",
    "        rand_val = random.random()\n",
    "        filename = f.split(\"\\\\\")[-1]#Pega o ultimo nome antes do \\\\\n",
    "        if rand_val <= percent_val: # pega ate 10% das imagens de forma aleatoria\n",
    "            shutil.move(f, new_folder_val_cats + \"\\\\\" + filename) #move da pasta origem para val de gato\n",
    "        elif rand_val > percent_val and rand_val <= percent_val + percent_test:#Pega ate 30% das imagens \n",
    "            shutil.move(f, new_folder_test_cats + \"\\\\\" + filename) #move da pasta origem para teste de gato\n",
    "        else: #Pega os 70% restante\n",
    "            shutil.move(f, new_folder_train_cats + \"\\\\\" + filename) #move da pasta origem para treino de gato\n",
    "\n",
    "moveImagesToCorectFolder()\n"
   ]
  }
 ],
 "metadata": {
  "kernelspec": {
   "display_name": "Python 3 (ipykernel)",
   "language": "python",
   "name": "python3"
  },
  "language_info": {
   "codemirror_mode": {
    "name": "ipython",
    "version": 3
   },
   "file_extension": ".py",
   "mimetype": "text/x-python",
   "name": "python",
   "nbconvert_exporter": "python",
   "pygments_lexer": "ipython3",
   "version": "3.10.9"
  }
 },
 "nbformat": 4,
 "nbformat_minor": 2
}
